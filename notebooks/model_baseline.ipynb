{
 "cells": [
  {
   "cell_type": "code",
   "execution_count": null,
   "id": "34993eb9",
   "metadata": {},
   "outputs": [],
   "source": [
    "# Step 1: Import necessary libraries\n",
    "import pandas as pd\n",
    "import numpy as np\n",
    "from sklearn.model_selection import train_test_split\n",
    "from sklearn.feature_extraction.text import TfidfVectorizer\n",
    "from sklearn.linear_model import PassiveAggressiveClassifier\n",
    "from sklearn.metrics import accuracy_score, confusion_matrix, classification_report\n",
    "import seaborn as sns\n",
    "import matplotlib.pyplot as plt\n",
    "import joblib"
   ]
  },
  {
   "cell_type": "code",
   "execution_count": null,
   "id": "02db6bef",
   "metadata": {},
   "outputs": [],
   "source": [
    "def load_data(path=\"TsFake/data\"):\n",
    "    ld = pd.read_csv(path)\n",
    "    print(ld.head())"
   ]
  },
  {
   "cell_type": "code",
   "execution_count": null,
   "id": "099de88a",
   "metadata": {},
   "outputs": [],
   "source": [
    "# Step 3. Select features/labels\n",
    "X = df['text'].fillna(\"\")   # news content\n",
    "y = df['label']             # 0 = REAL, 1 = FAKE (depends on dataset)\n",
    "\n",
    "X_train, X_test, y_train, y_test = train_test_split(\n",
    "    X, y, test_size=0.2, random_state=42\n",
    ")\n"
   ]
  },
  {
   "cell_type": "code",
   "execution_count": null,
   "id": "5fa05097",
   "metadata": {},
   "outputs": [],
   "source": [
    "# Step 4. TF-IDF vectorization\n",
    "tfidf = TfidfVectorizer(stop_words='english', max_df=0.7)\n",
    "tfidf_train = tfidf.fit_transform(X_train)\n",
    "tfidf_test = tfidf.transform(X_test)\n"
   ]
  },
  {
   "cell_type": "code",
   "execution_count": null,
   "id": "a5873ee9",
   "metadata": {},
   "outputs": [],
   "source": [
    "# Step 5. Train model\n",
    "pac = PassiveAggressiveClassifier(max_iter=50)\n",
    "pac.fit(tfidf_train, y_train)\n",
    "\n",
    "# Save model + vectorizer\n",
    "joblib.dump(pac, \"../models/fake_news_pac.pkl\")\n",
    "joblib.dump(tfidf, \"../models/tfidf.pkl\")\n"
   ]
  },
  {
   "cell_type": "code",
   "execution_count": null,
   "id": "2047643d",
   "metadata": {},
   "outputs": [],
   "source": [
    "# Step 6. Evaluate\n",
    "y_pred = pac.predict(tfidf_test)\n",
    "\n",
    "print(\"Accuracy:\", round(accuracy_score(y_test, y_pred)*100, 2), \"%\")\n",
    "print(\"\\nClassification Report:\\n\", classification_report(y_test, y_pred))\n",
    "\n",
    "cm = confusion_matrix(y_test, y_pred)\n",
    "sns.heatmap(cm, annot=True, fmt='d', cmap='Blues',\n",
    "            xticklabels=['REAL','FAKE'],\n",
    "            yticklabels=['REAL','FAKE'])\n",
    "plt.xlabel(\"Predicted\")\n",
    "plt.ylabel(\"Actual\")\n",
    "plt.title(\"Confusion Matrix\")\n",
    "plt.show()\n"
   ]
  },
  {
   "cell_type": "code",
   "execution_count": null,
   "id": "42a031b0",
   "metadata": {},
   "outputs": [],
   "source": [
    "# Step 7. Simple prediction function (useful later for the app)\n",
    "def predict_news(text, model_path=\"../models/fake_news_pac.pkl\", vec_path=\"../models/tfidf.pkl\"):\n",
    "    model = joblib.load(model_path)\n",
    "    vectorizer = joblib.load(vec_path)\n",
    "    text_tfidf = vectorizer.transform([text])\n",
    "    return model.predict(text_tfidf)[0]\n",
    "\n",
    "print(predict_news(\"Breaking: Aliens land on Earth!\"))"
   ]
  }
 ],
 "metadata": {
  "kernelspec": {
   "display_name": "Python 3",
   "language": "python",
   "name": "python3"
  },
  "language_info": {
   "codemirror_mode": {
    "name": "ipython",
    "version": 3
   },
   "file_extension": ".py",
   "mimetype": "text/x-python",
   "name": "python",
   "nbconvert_exporter": "python",
   "pygments_lexer": "ipython3",
   "version": "3.11.9"
  }
 },
 "nbformat": 4,
 "nbformat_minor": 5
}
